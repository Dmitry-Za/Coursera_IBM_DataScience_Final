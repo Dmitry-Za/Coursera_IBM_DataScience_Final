{
 "cells": [
  {
   "cell_type": "markdown",
   "metadata": {},
   "source": [
    "\n",
    "### A description of the problem and a discussion of the background.\n",
    "\n",
    "We are interested to estimate some aspects of the investment potential for Swedish communes. \n",
    "\n",
    "For those thinking where to start some sort of a business in Sweden it is important to understand what geographical locations have more potential for the development.\n",
    "\n",
    "The question is important as there is no clear answer to the questions: which communes (cities) are better for investing: “rich” or “poor”, “big” or “small”? It is obvious that there are rich and active communes (like capital cities), but they are often oversaturated with businesses which  results in high competition and, hence, low profitability of new businesses. On the other hand, “small” and “quiet” communes are often missing small businesses and, even though level of economical activities might be low there, the competition level is also significantly lower than in big cities\n",
    "We will try to analyze the level of “saturation” of Swedish communes with various businesses and try to segment them according to the perspectives of new business development.\n",
    "\n",
    "The question is important for those Swedish potential enterpreneurs that are thinking about the best locations to start a new business in Sweden.\n",
    "\n",
    "### A description of the data and how it will be used to solve the problem.\n",
    "\n",
    "To analyze the problem we will start with the following data sources:\n",
    "\n",
    "a.\tSCB site (Swedish statistics bureau)  http://www.statistikdatabasen.scb.se/pxweb/en/ssd/  where it is possible to find the data on population, average income and a lot of other statistics for Swedish communes. We downloaded some data and put it here for further processing: https://github.com/Dmitry-Za/Coursera_IBM_DataScience_Final/blob/master/se%20medelinkomst%20population.xlsx\n",
    "\n",
    "b.\tThe file https://raw.githubusercontent.com/peterdalle/svensktext/master/platser/kommuner.csv where we can find geo coordinates for swedish communal cities\n",
    "\n",
    "c.\tFoursquare service that we will use to measure the quantity of businesses around the communal center cities. \n",
    "\n",
    "### \n",
    "\n",
    "a.\tUsing Foursquare we will count businesses around communal centers. They have different sizes, so we will start with counting businesses in a certain circle and then increasing the radius of the circle until the growth of quantities of businesses slows down. We will also drop some kinds of businesses that are not relevant in our context (like airports etc.)\n",
    "\n",
    "b.\tWe will see how the quantity of businesses correlates to the population.\n",
    "\n",
    "c.\tWe will try to determing communes “undersaturated” with businesses that might have some business potential.\n",
    "\n",
    "d.\tWe will then analyze the average income in these “undersaturated” communes and suppose that those of them that have higher average income have higher potential for new business development.\n",
    "\n",
    "e.\tBased on the above, we will develop recommendations for investing in starting new businesses in different communes.\n",
    "\n",
    "\n"
   ]
  },
  {
   "cell_type": "code",
   "execution_count": null,
   "metadata": {},
   "outputs": [],
   "source": []
  }
 ],
 "metadata": {
  "kernelspec": {
   "display_name": "Python",
   "language": "python",
   "name": "conda-env-python-py"
  },
  "language_info": {
   "codemirror_mode": {
    "name": "ipython",
    "version": 3
   },
   "file_extension": ".py",
   "mimetype": "text/x-python",
   "name": "python",
   "nbconvert_exporter": "python",
   "pygments_lexer": "ipython3",
   "version": "3.6.7"
  }
 },
 "nbformat": 4,
 "nbformat_minor": 4
}
